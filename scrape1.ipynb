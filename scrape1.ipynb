{
  "nbformat": 4,
  "nbformat_minor": 0,
  "metadata": {
    "colab": {
      "provenance": [],
      "authorship_tag": "ABX9TyOyyijVc8Yl+j8lBTg0y9T+",
      "include_colab_link": true
    },
    "kernelspec": {
      "name": "python3",
      "display_name": "Python 3"
    },
    "language_info": {
      "name": "python"
    }
  },
  "cells": [
    {
      "cell_type": "markdown",
      "metadata": {
        "id": "view-in-github",
        "colab_type": "text"
      },
      "source": [
        "<a href=\"https://colab.research.google.com/github/WinterMuteLive/FNUMBERS/blob/main/scrape1.ipynb\" target=\"_parent\"><img src=\"https://colab.research.google.com/assets/colab-badge.svg\" alt=\"Open In Colab\"/></a>"
      ]
    },
    {
      "cell_type": "code",
      "execution_count": null,
      "metadata": {
        "id": "x6gUHxe3-ztS"
      },
      "outputs": [],
      "source": [
        "import requests\n",
        "from bs4 import BeautifulSoup"
      ]
    },
    {
      "cell_type": "code",
      "source": [
        "#@title Парсим сайт:\n",
        "url = \"https://ru.tradingview.com/chart/?symbol=BITSTAMP%3ABTCUSD\" #@param {type: \"string\"}"
      ],
      "metadata": {
        "id": "XtICCjR3_eq9"
      },
      "execution_count": null,
      "outputs": []
    },
    {
      "cell_type": "code",
      "source": [
        "response = requests.get(url)\n",
        "#print(response)"
      ],
      "metadata": {
        "colab": {
          "base_uri": "https://localhost:8080/"
        },
        "id": "iq9qHYxs_-92",
        "outputId": "18375751-30e1-4ea9-ff92-c134afb9f264"
      },
      "execution_count": null,
      "outputs": [
        {
          "output_type": "stream",
          "name": "stdout",
          "text": [
            "<Response [200]>\n"
          ]
        }
      ]
    },
    {
      "cell_type": "code",
      "source": [
        "page = response.text\n",
        "print(page)"
      ],
      "metadata": {
        "id": "1SSA4y80BHyj"
      },
      "execution_count": null,
      "outputs": []
    },
    {
      "cell_type": "code",
      "source": [
        "soup = BeautifulSoup(page, \"html.parser\")\n",
        "#print(soup)"
      ],
      "metadata": {
        "id": "VNqNBg4GCgnH"
      },
      "execution_count": null,
      "outputs": []
    },
    {
      "cell_type": "code",
      "source": [
        "#tables = soup.findAll(\"table\")\n",
        "#print(tables)"
      ],
      "metadata": {
        "id": "ZU3R_v6YDhyA"
      },
      "execution_count": null,
      "outputs": []
    },
    {
      "cell_type": "code",
      "source": [
        "div = soup.find(\"div\", {\"class\" : \"pane\"})\n",
        "#print(div)"
      ],
      "metadata": {
        "id": "CRzpqnFFEIz0"
      },
      "execution_count": null,
      "outputs": []
    },
    {
      "cell_type": "code",
      "source": [
        "tbl = div.find(\"table\")\n",
        "#print(tbl)"
      ],
      "metadata": {
        "id": "VHiDV3gkE_he"
      },
      "execution_count": null,
      "outputs": []
    },
    {
      "cell_type": "code",
      "source": [
        "rows = tbl.findAll(\"tr\")\n",
        "#print(rows)"
      ],
      "metadata": {
        "id": "mekfxA75GFGy"
      },
      "execution_count": null,
      "outputs": []
    },
    {
      "cell_type": "code",
      "source": [
        "for row_num in range(0, 10):\n",
        "  row = rows[row_num]\n",
        "  cells = row.findAll(\"td\")\n",
        "  st = \"\"\n",
        "  for cell in cells:\n",
        "    txt = cell.getText()\n",
        "    st += txt + \" : \"\n",
        "    print(st)\n",
        "\n"
      ],
      "metadata": {
        "id": "3j60eNjaGk4n"
      },
      "execution_count": null,
      "outputs": []
    }
  ]
}